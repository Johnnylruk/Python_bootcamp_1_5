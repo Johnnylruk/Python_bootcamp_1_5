{
 "cells": [
  {
   "cell_type": "code",
   "execution_count": 1,
   "metadata": {},
   "outputs": [],
   "source": [
    "import pandas as pd"
   ]
  },
  {
   "cell_type": "code",
   "execution_count": 5,
   "metadata": {},
   "outputs": [
    {
     "name": "stdout",
     "output_type": "stream",
     "text": [
      "<class 'pandas.core.frame.DataFrame'>\n",
      "RangeIndex: 23502 entries, 0 to 23501\n",
      "Data columns (total 4 columns):\n",
      " #   Column         Non-Null Count  Dtype \n",
      "---  ------         --------------  ----- \n",
      " 0   UUID           23502 non-null  object\n",
      " 1   IdTransaction  23502 non-null  object\n",
      " 2   Product        23502 non-null  object\n",
      " 3   Quantity       23502 non-null  int64 \n",
      "dtypes: int64(1), object(3)\n",
      "memory usage: 5.4 MB\n"
     ]
    }
   ],
   "source": [
    "df_transactions_cart = pd.read_parquet('../data/transactions_cart.parquet')\n",
    "df_transactions_cart.info(memory_usage='deep')"
   ]
  }
 ],
 "metadata": {
  "kernelspec": {
   "display_name": ".venv",
   "language": "python",
   "name": "python3"
  },
  "language_info": {
   "codemirror_mode": {
    "name": "ipython",
    "version": 3
   },
   "file_extension": ".py",
   "mimetype": "text/x-python",
   "name": "python",
   "nbconvert_exporter": "python",
   "pygments_lexer": "ipython3",
   "version": "3.12.4"
  }
 },
 "nbformat": 4,
 "nbformat_minor": 2
}
